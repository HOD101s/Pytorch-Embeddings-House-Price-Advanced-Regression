{
 "cells": [
  {
   "cell_type": "markdown",
   "metadata": {},
   "source": [
    "# House Prices: Advanced Regression Techniques\n",
    "\n",
    "With the following notebook I have implemented a Neural Network that creates Embeddings out of Categorical Features proven to improve performance."
   ]
  },
  {
   "cell_type": "code",
   "execution_count": 131,
   "metadata": {},
   "outputs": [],
   "source": [
    "import pandas as pd\n",
    "import numpy as np\n",
    "import matplotlib.pyplot as plt\n",
    "from sklearn.preprocessing import LabelEncoder\n",
    "import datetime\n",
    "import torch\n",
    "import torch.nn as nn\n",
    "import torch.nn.functional as F"
   ]
  },
  {
   "cell_type": "code",
   "execution_count": 11,
   "metadata": {},
   "outputs": [
    {
     "data": {
      "text/html": [
       "<div>\n",
       "<style scoped>\n",
       "    .dataframe tbody tr th:only-of-type {\n",
       "        vertical-align: middle;\n",
       "    }\n",
       "\n",
       "    .dataframe tbody tr th {\n",
       "        vertical-align: top;\n",
       "    }\n",
       "\n",
       "    .dataframe thead th {\n",
       "        text-align: right;\n",
       "    }\n",
       "</style>\n",
       "<table border=\"1\" class=\"dataframe\">\n",
       "  <thead>\n",
       "    <tr style=\"text-align: right;\">\n",
       "      <th></th>\n",
       "      <th>MSSubClass</th>\n",
       "      <th>MSZoning</th>\n",
       "      <th>LotFrontage</th>\n",
       "      <th>LotArea</th>\n",
       "      <th>Street</th>\n",
       "      <th>LotShape</th>\n",
       "      <th>YearBuilt</th>\n",
       "      <th>1stFlrSF</th>\n",
       "      <th>2ndFlrSF</th>\n",
       "      <th>SalePrice</th>\n",
       "    </tr>\n",
       "  </thead>\n",
       "  <tbody>\n",
       "    <tr>\n",
       "      <th>0</th>\n",
       "      <td>60</td>\n",
       "      <td>RL</td>\n",
       "      <td>65.0</td>\n",
       "      <td>8450</td>\n",
       "      <td>Pave</td>\n",
       "      <td>Reg</td>\n",
       "      <td>2003</td>\n",
       "      <td>856</td>\n",
       "      <td>854</td>\n",
       "      <td>208500</td>\n",
       "    </tr>\n",
       "    <tr>\n",
       "      <th>1</th>\n",
       "      <td>20</td>\n",
       "      <td>RL</td>\n",
       "      <td>80.0</td>\n",
       "      <td>9600</td>\n",
       "      <td>Pave</td>\n",
       "      <td>Reg</td>\n",
       "      <td>1976</td>\n",
       "      <td>1262</td>\n",
       "      <td>0</td>\n",
       "      <td>181500</td>\n",
       "    </tr>\n",
       "    <tr>\n",
       "      <th>2</th>\n",
       "      <td>60</td>\n",
       "      <td>RL</td>\n",
       "      <td>68.0</td>\n",
       "      <td>11250</td>\n",
       "      <td>Pave</td>\n",
       "      <td>IR1</td>\n",
       "      <td>2001</td>\n",
       "      <td>920</td>\n",
       "      <td>866</td>\n",
       "      <td>223500</td>\n",
       "    </tr>\n",
       "    <tr>\n",
       "      <th>3</th>\n",
       "      <td>70</td>\n",
       "      <td>RL</td>\n",
       "      <td>60.0</td>\n",
       "      <td>9550</td>\n",
       "      <td>Pave</td>\n",
       "      <td>IR1</td>\n",
       "      <td>1915</td>\n",
       "      <td>961</td>\n",
       "      <td>756</td>\n",
       "      <td>140000</td>\n",
       "    </tr>\n",
       "    <tr>\n",
       "      <th>4</th>\n",
       "      <td>60</td>\n",
       "      <td>RL</td>\n",
       "      <td>84.0</td>\n",
       "      <td>14260</td>\n",
       "      <td>Pave</td>\n",
       "      <td>IR1</td>\n",
       "      <td>2000</td>\n",
       "      <td>1145</td>\n",
       "      <td>1053</td>\n",
       "      <td>250000</td>\n",
       "    </tr>\n",
       "  </tbody>\n",
       "</table>\n",
       "</div>"
      ],
      "text/plain": [
       "   MSSubClass MSZoning  LotFrontage  LotArea Street LotShape  YearBuilt  \\\n",
       "0          60       RL         65.0     8450   Pave      Reg       2003   \n",
       "1          20       RL         80.0     9600   Pave      Reg       1976   \n",
       "2          60       RL         68.0    11250   Pave      IR1       2001   \n",
       "3          70       RL         60.0     9550   Pave      IR1       1915   \n",
       "4          60       RL         84.0    14260   Pave      IR1       2000   \n",
       "\n",
       "   1stFlrSF  2ndFlrSF  SalePrice  \n",
       "0       856       854     208500  \n",
       "1      1262         0     181500  \n",
       "2       920       866     223500  \n",
       "3       961       756     140000  \n",
       "4      1145      1053     250000  "
      ]
     },
     "execution_count": 11,
     "metadata": {},
     "output_type": "execute_result"
    }
   ],
   "source": [
    "df=pd.read_csv('train.csv',usecols=[\"SalePrice\", \"MSSubClass\", \"MSZoning\", \"LotFrontage\", \"LotArea\",\n",
    "                                         \"Street\", \"YearBuilt\", \"LotShape\", \"1stFlrSF\", \"2ndFlrSF\"]).dropna()\n",
    "df.head()"
   ]
  },
  {
   "cell_type": "code",
   "execution_count": 4,
   "metadata": {},
   "outputs": [
    {
     "data": {
      "text/plain": [
       "(1201, 10)"
      ]
     },
     "execution_count": 4,
     "metadata": {},
     "output_type": "execute_result"
    }
   ],
   "source": [
    "df.shape"
   ]
  },
  {
   "cell_type": "code",
   "execution_count": 5,
   "metadata": {},
   "outputs": [
    {
     "name": "stdout",
     "output_type": "stream",
     "text": [
      "<class 'pandas.core.frame.DataFrame'>\n",
      "Int64Index: 1201 entries, 0 to 1459\n",
      "Data columns (total 10 columns):\n",
      " #   Column       Non-Null Count  Dtype  \n",
      "---  ------       --------------  -----  \n",
      " 0   MSSubClass   1201 non-null   int64  \n",
      " 1   MSZoning     1201 non-null   object \n",
      " 2   LotFrontage  1201 non-null   float64\n",
      " 3   LotArea      1201 non-null   int64  \n",
      " 4   Street       1201 non-null   object \n",
      " 5   LotShape     1201 non-null   object \n",
      " 6   YearBuilt    1201 non-null   int64  \n",
      " 7   1stFlrSF     1201 non-null   int64  \n",
      " 8   2ndFlrSF     1201 non-null   int64  \n",
      " 9   SalePrice    1201 non-null   int64  \n",
      "dtypes: float64(1), int64(6), object(3)\n",
      "memory usage: 103.2+ KB\n"
     ]
    }
   ],
   "source": [
    "df.info()"
   ]
  },
  {
   "cell_type": "markdown",
   "metadata": {},
   "source": [
    "### Unique Value Count"
   ]
  },
  {
   "cell_type": "code",
   "execution_count": 21,
   "metadata": {},
   "outputs": [
    {
     "data": {
      "text/html": [
       "<style  type=\"text/css\" >\n",
       "#T_3609684f_e20b_11ea_b39b_9cfce87c5d66row0_col1{\n",
       "            background-color:  #fdf5fa;\n",
       "            color:  #000000;\n",
       "        }#T_3609684f_e20b_11ea_b39b_9cfce87c5d66row1_col1,#T_3609684f_e20b_11ea_b39b_9cfce87c5d66row4_col1,#T_3609684f_e20b_11ea_b39b_9cfce87c5d66row5_col1{\n",
       "            background-color:  #fff7fb;\n",
       "            color:  #000000;\n",
       "        }#T_3609684f_e20b_11ea_b39b_9cfce87c5d66row2_col1{\n",
       "            background-color:  #ede7f2;\n",
       "            color:  #000000;\n",
       "        }#T_3609684f_e20b_11ea_b39b_9cfce87c5d66row3_col1{\n",
       "            background-color:  #023858;\n",
       "            color:  #f1f1f1;\n",
       "        }#T_3609684f_e20b_11ea_b39b_9cfce87c5d66row6_col1,#T_3609684f_e20b_11ea_b39b_9cfce87c5d66row10_col1{\n",
       "            background-color:  #ece7f2;\n",
       "            color:  #000000;\n",
       "        }#T_3609684f_e20b_11ea_b39b_9cfce87c5d66row7_col1{\n",
       "            background-color:  #056ba7;\n",
       "            color:  #f1f1f1;\n",
       "        }#T_3609684f_e20b_11ea_b39b_9cfce87c5d66row8_col1{\n",
       "            background-color:  #93b5d6;\n",
       "            color:  #000000;\n",
       "        }#T_3609684f_e20b_11ea_b39b_9cfce87c5d66row9_col1{\n",
       "            background-color:  #1e80b8;\n",
       "            color:  #000000;\n",
       "        }</style><table id=\"T_3609684f_e20b_11ea_b39b_9cfce87c5d66\" ><thead>    <tr>        <th class=\"blank level0\" ></th>        <th class=\"col_heading level0 col0\" >Feature</th>        <th class=\"col_heading level0 col1\" >Unique Items</th>    </tr></thead><tbody>\n",
       "                <tr>\n",
       "                        <th id=\"T_3609684f_e20b_11ea_b39b_9cfce87c5d66level0_row0\" class=\"row_heading level0 row0\" >0</th>\n",
       "                        <td id=\"T_3609684f_e20b_11ea_b39b_9cfce87c5d66row0_col0\" class=\"data row0 col0\" >MSSubClass</td>\n",
       "                        <td id=\"T_3609684f_e20b_11ea_b39b_9cfce87c5d66row0_col1\" class=\"data row0 col1\" >15</td>\n",
       "            </tr>\n",
       "            <tr>\n",
       "                        <th id=\"T_3609684f_e20b_11ea_b39b_9cfce87c5d66level0_row1\" class=\"row_heading level0 row1\" >1</th>\n",
       "                        <td id=\"T_3609684f_e20b_11ea_b39b_9cfce87c5d66row1_col0\" class=\"data row1 col0\" >MSZoning</td>\n",
       "                        <td id=\"T_3609684f_e20b_11ea_b39b_9cfce87c5d66row1_col1\" class=\"data row1 col1\" >5</td>\n",
       "            </tr>\n",
       "            <tr>\n",
       "                        <th id=\"T_3609684f_e20b_11ea_b39b_9cfce87c5d66level0_row2\" class=\"row_heading level0 row2\" >2</th>\n",
       "                        <td id=\"T_3609684f_e20b_11ea_b39b_9cfce87c5d66row2_col0\" class=\"data row2 col0\" >LotFrontage</td>\n",
       "                        <td id=\"T_3609684f_e20b_11ea_b39b_9cfce87c5d66row2_col1\" class=\"data row2 col1\" >110</td>\n",
       "            </tr>\n",
       "            <tr>\n",
       "                        <th id=\"T_3609684f_e20b_11ea_b39b_9cfce87c5d66level0_row3\" class=\"row_heading level0 row3\" >3</th>\n",
       "                        <td id=\"T_3609684f_e20b_11ea_b39b_9cfce87c5d66row3_col0\" class=\"data row3 col0\" >LotArea</td>\n",
       "                        <td id=\"T_3609684f_e20b_11ea_b39b_9cfce87c5d66row3_col1\" class=\"data row3 col1\" >869</td>\n",
       "            </tr>\n",
       "            <tr>\n",
       "                        <th id=\"T_3609684f_e20b_11ea_b39b_9cfce87c5d66level0_row4\" class=\"row_heading level0 row4\" >4</th>\n",
       "                        <td id=\"T_3609684f_e20b_11ea_b39b_9cfce87c5d66row4_col0\" class=\"data row4 col0\" >Street</td>\n",
       "                        <td id=\"T_3609684f_e20b_11ea_b39b_9cfce87c5d66row4_col1\" class=\"data row4 col1\" >2</td>\n",
       "            </tr>\n",
       "            <tr>\n",
       "                        <th id=\"T_3609684f_e20b_11ea_b39b_9cfce87c5d66level0_row5\" class=\"row_heading level0 row5\" >5</th>\n",
       "                        <td id=\"T_3609684f_e20b_11ea_b39b_9cfce87c5d66row5_col0\" class=\"data row5 col0\" >LotShape</td>\n",
       "                        <td id=\"T_3609684f_e20b_11ea_b39b_9cfce87c5d66row5_col1\" class=\"data row5 col1\" >4</td>\n",
       "            </tr>\n",
       "            <tr>\n",
       "                        <th id=\"T_3609684f_e20b_11ea_b39b_9cfce87c5d66level0_row6\" class=\"row_heading level0 row6\" >6</th>\n",
       "                        <td id=\"T_3609684f_e20b_11ea_b39b_9cfce87c5d66row6_col0\" class=\"data row6 col0\" >YearBuilt</td>\n",
       "                        <td id=\"T_3609684f_e20b_11ea_b39b_9cfce87c5d66row6_col1\" class=\"data row6 col1\" >112</td>\n",
       "            </tr>\n",
       "            <tr>\n",
       "                        <th id=\"T_3609684f_e20b_11ea_b39b_9cfce87c5d66level0_row7\" class=\"row_heading level0 row7\" >7</th>\n",
       "                        <td id=\"T_3609684f_e20b_11ea_b39b_9cfce87c5d66row7_col0\" class=\"data row7 col0\" >1stFlrSF</td>\n",
       "                        <td id=\"T_3609684f_e20b_11ea_b39b_9cfce87c5d66row7_col1\" class=\"data row7 col1\" >678</td>\n",
       "            </tr>\n",
       "            <tr>\n",
       "                        <th id=\"T_3609684f_e20b_11ea_b39b_9cfce87c5d66level0_row8\" class=\"row_heading level0 row8\" >8</th>\n",
       "                        <td id=\"T_3609684f_e20b_11ea_b39b_9cfce87c5d66row8_col0\" class=\"data row8 col0\" >2ndFlrSF</td>\n",
       "                        <td id=\"T_3609684f_e20b_11ea_b39b_9cfce87c5d66row8_col1\" class=\"data row8 col1\" >368</td>\n",
       "            </tr>\n",
       "            <tr>\n",
       "                        <th id=\"T_3609684f_e20b_11ea_b39b_9cfce87c5d66level0_row9\" class=\"row_heading level0 row9\" >9</th>\n",
       "                        <td id=\"T_3609684f_e20b_11ea_b39b_9cfce87c5d66row9_col0\" class=\"data row9 col0\" >SalePrice</td>\n",
       "                        <td id=\"T_3609684f_e20b_11ea_b39b_9cfce87c5d66row9_col1\" class=\"data row9 col1\" >597</td>\n",
       "            </tr>\n",
       "            <tr>\n",
       "                        <th id=\"T_3609684f_e20b_11ea_b39b_9cfce87c5d66level0_row10\" class=\"row_heading level0 row10\" >10</th>\n",
       "                        <td id=\"T_3609684f_e20b_11ea_b39b_9cfce87c5d66row10_col0\" class=\"data row10 col0\" >YearsSinceBuilt</td>\n",
       "                        <td id=\"T_3609684f_e20b_11ea_b39b_9cfce87c5d66row10_col1\" class=\"data row10 col1\" >112</td>\n",
       "            </tr>\n",
       "    </tbody></table>"
      ],
      "text/plain": [
       "<pandas.io.formats.style.Styler at 0x14defb88520>"
      ]
     },
     "execution_count": 21,
     "metadata": {},
     "output_type": "execute_result"
    }
   ],
   "source": [
    "pd.DataFrame(data=[[col,len(df[col].unique())] for col in df.columns],columns=['Feature','Unique Items']).style.background_gradient()"
   ]
  },
  {
   "cell_type": "markdown",
   "metadata": {},
   "source": [
    "# Data Preprocessing"
   ]
  },
  {
   "cell_type": "code",
   "execution_count": 32,
   "metadata": {},
   "outputs": [
    {
     "data": {
      "text/html": [
       "<div>\n",
       "<style scoped>\n",
       "    .dataframe tbody tr th:only-of-type {\n",
       "        vertical-align: middle;\n",
       "    }\n",
       "\n",
       "    .dataframe tbody tr th {\n",
       "        vertical-align: top;\n",
       "    }\n",
       "\n",
       "    .dataframe thead th {\n",
       "        text-align: right;\n",
       "    }\n",
       "</style>\n",
       "<table border=\"1\" class=\"dataframe\">\n",
       "  <thead>\n",
       "    <tr style=\"text-align: right;\">\n",
       "      <th></th>\n",
       "      <th>MSSubClass</th>\n",
       "      <th>MSZoning</th>\n",
       "      <th>LotFrontage</th>\n",
       "      <th>LotArea</th>\n",
       "      <th>Street</th>\n",
       "      <th>LotShape</th>\n",
       "      <th>1stFlrSF</th>\n",
       "      <th>2ndFlrSF</th>\n",
       "      <th>SalePrice</th>\n",
       "      <th>YearsSinceBuilt</th>\n",
       "    </tr>\n",
       "  </thead>\n",
       "  <tbody>\n",
       "    <tr>\n",
       "      <th>0</th>\n",
       "      <td>5</td>\n",
       "      <td>3</td>\n",
       "      <td>65.0</td>\n",
       "      <td>8450</td>\n",
       "      <td>1</td>\n",
       "      <td>3</td>\n",
       "      <td>856</td>\n",
       "      <td>854</td>\n",
       "      <td>208500</td>\n",
       "      <td>17</td>\n",
       "    </tr>\n",
       "    <tr>\n",
       "      <th>1</th>\n",
       "      <td>0</td>\n",
       "      <td>3</td>\n",
       "      <td>80.0</td>\n",
       "      <td>9600</td>\n",
       "      <td>1</td>\n",
       "      <td>3</td>\n",
       "      <td>1262</td>\n",
       "      <td>0</td>\n",
       "      <td>181500</td>\n",
       "      <td>44</td>\n",
       "    </tr>\n",
       "    <tr>\n",
       "      <th>2</th>\n",
       "      <td>5</td>\n",
       "      <td>3</td>\n",
       "      <td>68.0</td>\n",
       "      <td>11250</td>\n",
       "      <td>1</td>\n",
       "      <td>0</td>\n",
       "      <td>920</td>\n",
       "      <td>866</td>\n",
       "      <td>223500</td>\n",
       "      <td>19</td>\n",
       "    </tr>\n",
       "    <tr>\n",
       "      <th>3</th>\n",
       "      <td>6</td>\n",
       "      <td>3</td>\n",
       "      <td>60.0</td>\n",
       "      <td>9550</td>\n",
       "      <td>1</td>\n",
       "      <td>0</td>\n",
       "      <td>961</td>\n",
       "      <td>756</td>\n",
       "      <td>140000</td>\n",
       "      <td>105</td>\n",
       "    </tr>\n",
       "    <tr>\n",
       "      <th>4</th>\n",
       "      <td>5</td>\n",
       "      <td>3</td>\n",
       "      <td>84.0</td>\n",
       "      <td>14260</td>\n",
       "      <td>1</td>\n",
       "      <td>0</td>\n",
       "      <td>1145</td>\n",
       "      <td>1053</td>\n",
       "      <td>250000</td>\n",
       "      <td>20</td>\n",
       "    </tr>\n",
       "  </tbody>\n",
       "</table>\n",
       "</div>"
      ],
      "text/plain": [
       "   MSSubClass  MSZoning  LotFrontage  LotArea  Street  LotShape  1stFlrSF  \\\n",
       "0           5         3         65.0     8450       1         3       856   \n",
       "1           0         3         80.0     9600       1         3      1262   \n",
       "2           5         3         68.0    11250       1         0       920   \n",
       "3           6         3         60.0     9550       1         0       961   \n",
       "4           5         3         84.0    14260       1         0      1145   \n",
       "\n",
       "   2ndFlrSF  SalePrice  YearsSinceBuilt  \n",
       "0       854     208500               17  \n",
       "1         0     181500               44  \n",
       "2       866     223500               19  \n",
       "3       756     140000              105  \n",
       "4      1053     250000               20  "
      ]
     },
     "execution_count": 32,
     "metadata": {},
     "output_type": "execute_result"
    }
   ],
   "source": [
    "df['YearsSinceBuilt'] = datetime.datetime.now().year - df.YearBuilt\n",
    "df.drop('YearBuilt',axis=1,inplace=True)\n",
    "df.head()"
   ]
  },
  {
   "cell_type": "code",
   "execution_count": 22,
   "metadata": {},
   "outputs": [
    {
     "data": {
      "text/plain": [
       "Index(['MSSubClass', 'MSZoning', 'LotFrontage', 'LotArea', 'Street',\n",
       "       'LotShape', 'YearBuilt', '1stFlrSF', '2ndFlrSF', 'SalePrice',\n",
       "       'YearsSinceBuilt'],\n",
       "      dtype='object')"
      ]
     },
     "execution_count": 22,
     "metadata": {},
     "output_type": "execute_result"
    }
   ],
   "source": [
    "df.columns"
   ]
  },
  {
   "cell_type": "markdown",
   "metadata": {},
   "source": [
    "## Handling Categorical Features"
   ]
  },
  {
   "cell_type": "code",
   "execution_count": 23,
   "metadata": {},
   "outputs": [],
   "source": [
    "cat_features = ['MSSubClass', 'MSZoning','Street','LotShape', ]"
   ]
  },
  {
   "cell_type": "code",
   "execution_count": 25,
   "metadata": {},
   "outputs": [],
   "source": [
    "lblEncoders = {}\n",
    "for feature in cat_features:\n",
    "    lblEncoders[feature] = LabelEncoder()\n",
    "    df[feature] = lblEncoders[feature].fit_transform(df[feature])"
   ]
  },
  {
   "cell_type": "code",
   "execution_count": 26,
   "metadata": {},
   "outputs": [
    {
     "data": {
      "text/plain": [
       "tensor([[5, 3, 1, 3],\n",
       "        [0, 3, 1, 3],\n",
       "        [5, 3, 1, 0],\n",
       "        ...,\n",
       "        [6, 3, 1, 3],\n",
       "        [0, 3, 1, 3],\n",
       "        [0, 3, 1, 3]])"
      ]
     },
     "execution_count": 26,
     "metadata": {},
     "output_type": "execute_result"
    }
   ],
   "source": [
    "catTensor = np.stack([df[col] for col in cat_features],1)\n",
    "catTensor = torch.tensor(catTensor,dtype=torch.int64)\n",
    "catTensor"
   ]
  },
  {
   "cell_type": "markdown",
   "metadata": {},
   "source": [
    "## Handling Continuos Features"
   ]
  },
  {
   "cell_type": "code",
   "execution_count": 90,
   "metadata": {},
   "outputs": [
    {
     "data": {
      "text/plain": [
       "['LotFrontage', 'LotArea', '1stFlrSF', '2ndFlrSF', 'YearsSinceBuilt']"
      ]
     },
     "execution_count": 90,
     "metadata": {},
     "output_type": "execute_result"
    }
   ],
   "source": [
    "cont_features = [col for col in df.columns if col not in cat_features and col!= 'SalePrice']\n",
    "cont_features "
   ]
  },
  {
   "cell_type": "code",
   "execution_count": 91,
   "metadata": {},
   "outputs": [
    {
     "data": {
      "text/plain": [
       "tensor([[   65.,  8450.,   856.,   854.,    17.],\n",
       "        [   80.,  9600.,  1262.,     0.,    44.],\n",
       "        [   68., 11250.,   920.,   866.,    19.],\n",
       "        ...,\n",
       "        [   66.,  9042.,  1188.,  1152.,    79.],\n",
       "        [   68.,  9717.,  1078.,     0.,    70.],\n",
       "        [   75.,  9937.,  1256.,     0.,    55.]])"
      ]
     },
     "execution_count": 91,
     "metadata": {},
     "output_type": "execute_result"
    }
   ],
   "source": [
    "contTensor = np.stack([df[col] for col in cont_features],axis=1)\n",
    "contTensor = torch.tensor(contTensor,dtype=torch.float)\n",
    "contTensor"
   ]
  },
  {
   "cell_type": "markdown",
   "metadata": {},
   "source": [
    "##### Dependant Feature"
   ]
  },
  {
   "cell_type": "code",
   "execution_count": 92,
   "metadata": {},
   "outputs": [
    {
     "data": {
      "text/plain": [
       "tensor([[208500.],\n",
       "        [181500.],\n",
       "        [223500.],\n",
       "        ...,\n",
       "        [266500.],\n",
       "        [142125.],\n",
       "        [147500.]])"
      ]
     },
     "execution_count": 92,
     "metadata": {},
     "output_type": "execute_result"
    }
   ],
   "source": [
    "y = torch.tensor(df['SalePrice'].values,dtype=torch.float).reshape(-1,1)\n",
    "y"
   ]
  },
  {
   "cell_type": "markdown",
   "metadata": {},
   "source": [
    "# Categorical Embeddings \n",
    "At most 50 categorical features to be implemented, thus we are following `min(50 , (dimension+1)//2)` Rule"
   ]
  },
  {
   "cell_type": "code",
   "execution_count": 93,
   "metadata": {},
   "outputs": [
    {
     "data": {
      "text/plain": [
       "[(15, 8), (5, 3), (2, 1), (4, 2)]"
      ]
     },
     "execution_count": 93,
     "metadata": {},
     "output_type": "execute_result"
    }
   ],
   "source": [
    "cat_dims = [len(df[col].unique()) for col in cat_features]\n",
    "embedding_dims = [(dim,min(50,(dim+1)//2)) for dim in cat_dims]\n",
    "embedding_dims"
   ]
  },
  {
   "cell_type": "code",
   "execution_count": 94,
   "metadata": {},
   "outputs": [
    {
     "data": {
      "text/plain": [
       "ModuleList(\n",
       "  (0): Embedding(15, 8)\n",
       "  (1): Embedding(5, 3)\n",
       "  (2): Embedding(2, 1)\n",
       "  (3): Embedding(4, 2)\n",
       ")"
      ]
     },
     "execution_count": 94,
     "metadata": {},
     "output_type": "execute_result"
    }
   ],
   "source": [
    "embed_repr = nn.ModuleList([nn.Embedding(inp,out) for inp,out in embedding_dims])\n",
    "embed_repr"
   ]
  },
  {
   "cell_type": "code",
   "execution_count": 95,
   "metadata": {},
   "outputs": [],
   "source": [
    "embed_values = []\n",
    "for i,e in enumerate(embed_repr):\n",
    "    embed_values.append(e(catTensor[:,i]))"
   ]
  },
  {
   "cell_type": "code",
   "execution_count": 96,
   "metadata": {},
   "outputs": [
    {
     "data": {
      "text/plain": [
       "tensor([[ 0.9849, -1.6149,  0.2978,  ...,  0.7049,  0.7470, -0.3021],\n",
       "        [-0.6772,  1.0859, -1.1900,  ...,  0.7049,  0.7470, -0.3021],\n",
       "        [ 0.9849, -1.6149,  0.2978,  ...,  0.7049, -0.4365, -0.9372],\n",
       "        ...,\n",
       "        [-2.2952,  0.3509, -1.5490,  ...,  0.7049,  0.7470, -0.3021],\n",
       "        [-0.6772,  1.0859, -1.1900,  ...,  0.7049,  0.7470, -0.3021],\n",
       "        [-0.6772,  1.0859, -1.1900,  ...,  0.7049,  0.7470, -0.3021]],\n",
       "       grad_fn=<CatBackward>)"
      ]
     },
     "execution_count": 96,
     "metadata": {},
     "output_type": "execute_result"
    }
   ],
   "source": [
    "embed_values = torch.cat(embed_values,1)\n",
    "embed_values"
   ]
  },
  {
   "cell_type": "markdown",
   "metadata": {},
   "source": [
    "##### Adding Regularization to Embeddings using Dropout"
   ]
  },
  {
   "cell_type": "code",
   "execution_count": 97,
   "metadata": {},
   "outputs": [
    {
     "data": {
      "text/plain": [
       "tensor([[ 0.0000, -0.0000,  0.0000,  ...,  1.1749,  0.0000, -0.5035],\n",
       "        [-0.0000,  1.8099, -1.9834,  ...,  0.0000,  1.2450, -0.0000],\n",
       "        [ 1.6415, -2.6915,  0.0000,  ...,  1.1749, -0.0000, -0.0000],\n",
       "        ...,\n",
       "        [-3.8254,  0.0000, -2.5817,  ...,  0.0000,  1.2450, -0.0000],\n",
       "        [-1.1286,  1.8099, -1.9834,  ...,  1.1749,  0.0000, -0.5035],\n",
       "        [-1.1286,  1.8099, -1.9834,  ...,  1.1749,  1.2450, -0.5035]],\n",
       "       grad_fn=<MulBackward0>)"
      ]
     },
     "execution_count": 97,
     "metadata": {},
     "output_type": "execute_result"
    }
   ],
   "source": [
    "embed_values = nn.Dropout(.4)(embed_values)\n",
    "embed_values"
   ]
  },
  {
   "cell_type": "markdown",
   "metadata": {},
   "source": [
    "# Building Neural Network Architecture"
   ]
  },
  {
   "cell_type": "code",
   "execution_count": 119,
   "metadata": {},
   "outputs": [],
   "source": [
    "class Model(nn.Module):\n",
    "    def __init__(self, embedding_dim, n_cont, out_sz, layers, drop=0.5):\n",
    "        super().__init__()\n",
    "        self.embed_repr = nn.ModuleList([nn.Embedding(inp,out) for inp,out in embedding_dims])\n",
    "        self.embed_dropout = nn.Dropout(drop)\n",
    "        self.bn_cont = nn.BatchNorm1d(n_cont)\n",
    "        \n",
    "        layerlist = []\n",
    "        n_emb = sum((val[1] for val in embedding_dim))\n",
    "        n_in = n_cont + n_emb\n",
    "        \n",
    "        for layer in layers:\n",
    "            layerlist.append(nn.Linear(n_in,layer))\n",
    "            layerlist.append(nn.ReLU(inplace=True))\n",
    "            layerlist.append(nn.BatchNorm1d(layer))\n",
    "            layerlist.append(nn.Dropout(drop))\n",
    "            n_in = layer\n",
    "        layerlist.append(nn.Linear(layers[-1],out_sz))\n",
    "        \n",
    "        self.layers = nn.Sequential(*layerlist)\n",
    "        \n",
    "    def forward(self, cat,cont):\n",
    "        embeddings = []\n",
    "        for i,e in enumerate(self.embed_repr):\n",
    "            embeddings.append(e(cat[:,i]))\n",
    "        x = torch.cat(embeddings,1)\n",
    "        x = self.embed_dropout(x)\n",
    "        x_cont = self.bn_cont(cont)\n",
    "        x = torch.cat([x,x_cont],1)\n",
    "        x = self.layers(x)\n",
    "        return x"
   ]
  },
  {
   "cell_type": "code",
   "execution_count": 120,
   "metadata": {},
   "outputs": [],
   "source": [
    "torch.manual_seed(100)\n",
    "model = Model(embedding_dims, len(cont_features), 1, [100,50], drop = .4)"
   ]
  },
  {
   "cell_type": "code",
   "execution_count": 121,
   "metadata": {},
   "outputs": [
    {
     "data": {
      "text/plain": [
       "Model(\n",
       "  (embed_repr): ModuleList(\n",
       "    (0): Embedding(15, 8)\n",
       "    (1): Embedding(5, 3)\n",
       "    (2): Embedding(2, 1)\n",
       "    (3): Embedding(4, 2)\n",
       "  )\n",
       "  (embed_dropout): Dropout(p=0.4, inplace=False)\n",
       "  (bn_cont): BatchNorm1d(5, eps=1e-05, momentum=0.1, affine=True, track_running_stats=True)\n",
       "  (layers): Sequential(\n",
       "    (0): Linear(in_features=19, out_features=100, bias=True)\n",
       "    (1): ReLU(inplace=True)\n",
       "    (2): BatchNorm1d(100, eps=1e-05, momentum=0.1, affine=True, track_running_stats=True)\n",
       "    (3): Dropout(p=0.4, inplace=False)\n",
       "    (4): Linear(in_features=100, out_features=50, bias=True)\n",
       "    (5): ReLU(inplace=True)\n",
       "    (6): BatchNorm1d(50, eps=1e-05, momentum=0.1, affine=True, track_running_stats=True)\n",
       "    (7): Dropout(p=0.4, inplace=False)\n",
       "    (8): Linear(in_features=50, out_features=1, bias=True)\n",
       "  )\n",
       ")"
      ]
     },
     "execution_count": 121,
     "metadata": {},
     "output_type": "execute_result"
    }
   ],
   "source": [
    "model"
   ]
  },
  {
   "cell_type": "code",
   "execution_count": 122,
   "metadata": {},
   "outputs": [],
   "source": [
    "loss_function = nn.MSELoss()\n",
    "optimizer = torch.optim.Adam(model.parameters(), lr =0.01)"
   ]
  },
  {
   "cell_type": "markdown",
   "metadata": {},
   "source": [
    "# Model Training"
   ]
  },
  {
   "cell_type": "code",
   "execution_count": 123,
   "metadata": {},
   "outputs": [],
   "source": [
    "batch_size = len(df)\n",
    "test_size = int(batch_size*.15)\n",
    "train_cat = catTensor[:batch_size-test_size]\n",
    "test_cat = catTensor[batch_size-test_size:batch_size]\n",
    "train_cont = contTensor[:batch_size-test_size]\n",
    "test_cont = contTensor[batch_size-test_size:batch_size]\n",
    "y_train = y[:batch_size-test_size]\n",
    "y_test = y[batch_size-test_size:batch_size]"
   ]
  },
  {
   "cell_type": "code",
   "execution_count": 124,
   "metadata": {},
   "outputs": [
    {
     "data": {
      "text/plain": [
       "180"
      ]
     },
     "execution_count": 124,
     "metadata": {},
     "output_type": "execute_result"
    }
   ],
   "source": [
    "len(test_cat)"
   ]
  },
  {
   "cell_type": "code",
   "execution_count": 128,
   "metadata": {},
   "outputs": [
    {
     "name": "stdout",
     "output_type": "stream",
     "text": [
      "Epoch 50 : 195423.671875\n",
      "Epoch 100 : 194391.78125\n",
      "Epoch 150 : 193250.96875\n",
      "Epoch 200 : 192339.5625\n",
      "Epoch 250 : 191125.984375\n",
      "Epoch 300 : 189715.84375\n",
      "Epoch 350 : 188490.4375\n",
      "Epoch 400 : 187217.828125\n",
      "Epoch 450 : 185637.671875\n",
      "Epoch 500 : 184179.765625\n",
      "Epoch 550 : 182613.765625\n",
      "Epoch 600 : 181369.359375\n",
      "Epoch 650 : 179351.65625\n",
      "Epoch 700 : 177432.5625\n",
      "Epoch 750 : 175856.953125\n",
      "Epoch 800 : 174053.453125\n",
      "Epoch 850 : 172078.5625\n",
      "Epoch 900 : 170130.390625\n",
      "Epoch 950 : 168139.546875\n",
      "Epoch 1000 : 166029.40625\n",
      "Epoch 1050 : 163681.625\n",
      "Epoch 1100 : 162255.109375\n",
      "Epoch 1150 : 159858.671875\n",
      "Epoch 1200 : 157727.4375\n",
      "Epoch 1250 : 155808.171875\n",
      "Epoch 1300 : 152391.953125\n",
      "Epoch 1350 : 151265.859375\n",
      "Epoch 1400 : 147958.390625\n",
      "Epoch 1450 : 146163.578125\n",
      "Epoch 1500 : 143951.40625\n",
      "Epoch 1550 : 141090.515625\n",
      "Epoch 1600 : 138681.5625\n",
      "Epoch 1650 : 136301.640625\n",
      "Epoch 1700 : 134488.890625\n",
      "Epoch 1750 : 131477.34375\n",
      "Epoch 1800 : 128711.6640625\n",
      "Epoch 1850 : 126530.6015625\n",
      "Epoch 1900 : 124271.234375\n",
      "Epoch 1950 : 122073.96875\n",
      "Epoch 2000 : 118708.4765625\n",
      "Epoch 2050 : 115947.4609375\n",
      "Epoch 2100 : 114040.828125\n",
      "Epoch 2150 : 110531.734375\n",
      "Epoch 2200 : 109689.671875\n",
      "Epoch 2250 : 106667.921875\n",
      "Epoch 2300 : 103933.8046875\n",
      "Epoch 2350 : 101102.0859375\n",
      "Epoch 2400 : 98503.078125\n",
      "Epoch 2450 : 96482.8046875\n",
      "Epoch 2500 : 93646.9453125\n",
      "Epoch 2550 : 92171.296875\n",
      "Epoch 2600 : 89247.8515625\n",
      "Epoch 2650 : 86938.9375\n",
      "Epoch 2700 : 84029.9453125\n",
      "Epoch 2750 : 82124.5390625\n",
      "Epoch 2800 : 79796.265625\n",
      "Epoch 2850 : 76203.2578125\n",
      "Epoch 2900 : 74156.296875\n",
      "Epoch 2950 : 71783.1953125\n",
      "Epoch 3000 : 69476.46875\n",
      "Epoch 3050 : 66175.4921875\n",
      "Epoch 3100 : 64772.80078125\n",
      "Epoch 3150 : 62895.91796875\n",
      "Epoch 3200 : 60635.37109375\n",
      "Epoch 3250 : 58876.6484375\n",
      "Epoch 3300 : 56472.92578125\n",
      "Epoch 3350 : 52745.75\n",
      "Epoch 3400 : 52050.43359375\n",
      "Epoch 3450 : 48422.4140625\n",
      "Epoch 3500 : 48233.12890625\n",
      "Epoch 3550 : 47249.796875\n",
      "Epoch 3600 : 46500.34765625\n",
      "Epoch 3650 : 43405.95703125\n",
      "Epoch 3700 : 41583.5078125\n",
      "Epoch 3750 : 41395.453125\n",
      "Epoch 3800 : 40565.1171875\n",
      "Epoch 3850 : 38883.8828125\n",
      "Epoch 3900 : 36983.890625\n",
      "Epoch 3950 : 37045.01953125\n",
      "Epoch 4000 : 36362.12109375\n",
      "Epoch 4050 : 35029.8984375\n",
      "Epoch 4100 : 35638.9921875\n",
      "Epoch 4150 : 36174.77734375\n",
      "Epoch 4200 : 34975.1640625\n",
      "Epoch 4250 : 36090.234375\n",
      "Epoch 4300 : 38625.765625\n",
      "Epoch 4350 : 34548.83984375\n",
      "Epoch 4400 : 35285.7734375\n",
      "Epoch 4450 : 34745.0703125\n",
      "Epoch 4500 : 35048.54296875\n",
      "Epoch 4550 : 35700.0234375\n",
      "Epoch 4600 : 33895.01953125\n",
      "Epoch 4650 : 33700.98046875\n",
      "Epoch 4700 : 36387.7890625\n",
      "Epoch 4750 : 33868.83984375\n",
      "Epoch 4800 : 34900.31640625\n",
      "Epoch 4850 : 39847.99609375\n",
      "Epoch 4900 : 35883.21484375\n",
      "Epoch 4950 : 35087.5234375\n",
      "Epoch 5000 : 33437.921875\n"
     ]
    }
   ],
   "source": [
    "epochs = 5000\n",
    "losses = []\n",
    "for i in range(epochs):\n",
    "    i += 1\n",
    "    y_pred = model.forward(train_cat,train_cont)\n",
    "    loss = torch.sqrt(loss_function(y_pred,y_train))\n",
    "    losses.append(loss)\n",
    "    if i%50 == 0:\n",
    "        print(f\"Epoch {i} : {loss}\")\n",
    "    optimizer.zero_grad()\n",
    "    loss.backward()\n",
    "    optimizer.step()"
   ]
  },
  {
   "cell_type": "code",
   "execution_count": 132,
   "metadata": {},
   "outputs": [
    {
     "data": {
      "text/plain": [
       "Text(0.5, 0, 'epoch')"
      ]
     },
     "execution_count": 132,
     "metadata": {},
     "output_type": "execute_result"
    },
    {
     "data": {
      "image/png": "[encoded data removed]",
      "text/plain": [
       "<Figure size 432x288 with 1 Axes>"
      ]
     },
     "metadata": {
      "needs_background": "light"
     },
     "output_type": "display_data"
    }
   ],
   "source": [
    "plt.plot(range(epochs), losses)\n",
    "plt.ylabel('RMSE Loss')\n",
    "plt.xlabel('epoch')"
   ]
  },
  {
   "cell_type": "code",
   "execution_count": 134,
   "metadata": {},
   "outputs": [
    {
     "name": "stdout",
     "output_type": "stream",
     "text": [
      "RMSE: 44719.70703125\n"
     ]
    }
   ],
   "source": [
    "with torch.no_grad():\n",
    "    y_pred=model(test_cat,test_cont)\n",
    "    loss=torch.sqrt(loss_function(y_pred,y_test))\n",
    "print('RMSE: {}'.format(loss))"
   ]
  }
 ],
 "metadata": {
  "kernelspec": {
   "display_name": "Python 3",
   "language": "python",
   "name": "python3"
  },
  "language_info": {
   "codemirror_mode": {
    "name": "ipython",
    "version": 3
   },
   "file_extension": ".py",
   "mimetype": "text/x-python",
   "name": "python",
   "nbconvert_exporter": "python",
   "pygments_lexer": "ipython3",
   "version": "3.8.3"
  }
 },
 "nbformat": 4,
 "nbformat_minor": 4
}
